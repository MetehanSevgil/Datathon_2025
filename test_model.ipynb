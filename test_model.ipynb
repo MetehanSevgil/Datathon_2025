{
 "cells": [
  {
   "cell_type": "code",
   "execution_count": 1,
   "id": "baad98ed",
   "metadata": {},
   "outputs": [],
   "source": [
    "import pandas as pd\n",
    "import numpy as np\n",
    "from sklearn.preprocessing import StandardScaler\n",
    "from tensorflow.keras.models import load_model\n",
    "import joblib"
   ]
  },
  {
   "cell_type": "code",
   "execution_count": 2,
   "id": "b4fa4b7d",
   "metadata": {},
   "outputs": [
    {
     "data": {
      "text/html": [
       "<div>\n",
       "<style scoped>\n",
       "    .dataframe tbody tr th:only-of-type {\n",
       "        vertical-align: middle;\n",
       "    }\n",
       "\n",
       "    .dataframe tbody tr th {\n",
       "        vertical-align: top;\n",
       "    }\n",
       "\n",
       "    .dataframe thead th {\n",
       "        text-align: right;\n",
       "    }\n",
       "</style>\n",
       "<table border=\"1\" class=\"dataframe\">\n",
       "  <thead>\n",
       "    <tr style=\"text-align: right;\">\n",
       "      <th></th>\n",
       "      <th>event_time</th>\n",
       "      <th>event_type</th>\n",
       "      <th>product_id</th>\n",
       "      <th>category_id</th>\n",
       "      <th>user_id</th>\n",
       "      <th>user_session</th>\n",
       "    </tr>\n",
       "  </thead>\n",
       "  <tbody>\n",
       "    <tr>\n",
       "      <th>0</th>\n",
       "      <td>2025-06-28 10:09:58+00:00</td>\n",
       "      <td>ADD_CART</td>\n",
       "      <td>PROD_015000</td>\n",
       "      <td>CAT_00019</td>\n",
       "      <td>USER_109759</td>\n",
       "      <td>SESSION_164059</td>\n",
       "    </tr>\n",
       "    <tr>\n",
       "      <th>1</th>\n",
       "      <td>2025-06-25 11:57:50+00:00</td>\n",
       "      <td>ADD_CART</td>\n",
       "      <td>PROD_023887</td>\n",
       "      <td>CAT_00010</td>\n",
       "      <td>USER_010614</td>\n",
       "      <td>SESSION_109583</td>\n",
       "    </tr>\n",
       "    <tr>\n",
       "      <th>2</th>\n",
       "      <td>2025-06-30 14:34:20+00:00</td>\n",
       "      <td>ADD_CART</td>\n",
       "      <td>PROD_022673</td>\n",
       "      <td>CAT_00090</td>\n",
       "      <td>USER_041338</td>\n",
       "      <td>SESSION_171382</td>\n",
       "    </tr>\n",
       "    <tr>\n",
       "      <th>3</th>\n",
       "      <td>2025-06-30 22:12:18+00:00</td>\n",
       "      <td>ADD_CART</td>\n",
       "      <td>PROD_004664</td>\n",
       "      <td>CAT_00280</td>\n",
       "      <td>USER_015376</td>\n",
       "      <td>SESSION_137110</td>\n",
       "    </tr>\n",
       "    <tr>\n",
       "      <th>4</th>\n",
       "      <td>2025-06-26 16:55:18+00:00</td>\n",
       "      <td>ADD_CART</td>\n",
       "      <td>PROD_027815</td>\n",
       "      <td>CAT_00027</td>\n",
       "      <td>USER_054449</td>\n",
       "      <td>SESSION_146503</td>\n",
       "    </tr>\n",
       "  </tbody>\n",
       "</table>\n",
       "</div>"
      ],
      "text/plain": [
       "                  event_time event_type   product_id category_id      user_id  \\\n",
       "0  2025-06-28 10:09:58+00:00   ADD_CART  PROD_015000   CAT_00019  USER_109759   \n",
       "1  2025-06-25 11:57:50+00:00   ADD_CART  PROD_023887   CAT_00010  USER_010614   \n",
       "2  2025-06-30 14:34:20+00:00   ADD_CART  PROD_022673   CAT_00090  USER_041338   \n",
       "3  2025-06-30 22:12:18+00:00   ADD_CART  PROD_004664   CAT_00280  USER_015376   \n",
       "4  2025-06-26 16:55:18+00:00   ADD_CART  PROD_027815   CAT_00027  USER_054449   \n",
       "\n",
       "     user_session  \n",
       "0  SESSION_164059  \n",
       "1  SESSION_109583  \n",
       "2  SESSION_171382  \n",
       "3  SESSION_137110  \n",
       "4  SESSION_146503  "
      ]
     },
     "execution_count": 2,
     "metadata": {},
     "output_type": "execute_result"
    }
   ],
   "source": [
    "test_df = pd.read_csv(\"dataset/test.csv\")\n",
    "test_df.head()"
   ]
  },
  {
   "cell_type": "code",
   "execution_count": 3,
   "id": "0e67d039",
   "metadata": {},
   "outputs": [
    {
     "name": "stdout",
     "output_type": "stream",
     "text": [
      "<class 'pandas.core.frame.DataFrame'>\n",
      "RangeIndex: 62951 entries, 0 to 62950\n",
      "Data columns (total 6 columns):\n",
      " #   Column        Non-Null Count  Dtype \n",
      "---  ------        --------------  ----- \n",
      " 0   event_time    62951 non-null  object\n",
      " 1   event_type    62951 non-null  object\n",
      " 2   product_id    62951 non-null  object\n",
      " 3   category_id   62951 non-null  object\n",
      " 4   user_id       62951 non-null  object\n",
      " 5   user_session  62951 non-null  object\n",
      "dtypes: object(6)\n",
      "memory usage: 2.9+ MB\n"
     ]
    }
   ],
   "source": [
    "test_df.info()"
   ]
  },
  {
   "cell_type": "code",
   "execution_count": 4,
   "id": "ff625536",
   "metadata": {},
   "outputs": [
    {
     "name": "stdout",
     "output_type": "stream",
     "text": [
      "4\n",
      "17450\n",
      "433\n",
      "22665\n",
      "30789\n"
     ]
    }
   ],
   "source": [
    "print(test_df['event_type'].nunique())\n",
    "print(test_df[\"product_id\"].nunique())\n",
    "print(test_df[\"category_id\"].nunique())\n",
    "print(test_df[\"user_id\"].nunique())\n",
    "print(test_df[\"user_session\"].nunique())"
   ]
  },
  {
   "cell_type": "code",
   "execution_count": 5,
   "id": "9ac25905",
   "metadata": {},
   "outputs": [],
   "source": [
    "test_df[\"event_time\"] = pd.to_datetime(test_df[\"event_time\"], utc=True)\n",
    "\n",
    "test_df[\"hour\"] = test_df[\"event_time\"].dt.hour\n",
    "test_df[\"day\"] = test_df[\"event_time\"].dt.day\n",
    "test_df[\"weekday\"] = test_df[\"event_time\"].dt.weekday  # 0 = Pazartesi, 6 = Pazar\n",
    "test_df[\"is_weekend\"] = (test_df[\"weekday\"] >= 5).astype(int) # Hafta sonu kontrolü"
   ]
  },
  {
   "cell_type": "code",
   "execution_count": 6,
   "id": "e34f33ae",
   "metadata": {},
   "outputs": [],
   "source": [
    "# --- 1) Ürün ve kategori çeşitliliği + diğer özetler ---\n",
    "\n",
    "# --- 1.1) Session bazlı özet ---\n",
    "agg_features_test = test_df.groupby(\"user_session\").agg(\n",
    "    user_id=(\"user_id\", \"first\"),          \n",
    "    n_events=(\"event_type\", \"count\"),      \n",
    "    n_products=(\"product_id\", \"nunique\"),  \n",
    "    n_categories=(\"category_id\", \"nunique\"),\n",
    "    avg_hour=(\"hour\", \"mean\"),             \n",
    "    is_weekend=(\"is_weekend\", \"max\"),      \n",
    ").reset_index()\n",
    "\n",
    "# --- 1.2) Yoğunluk & tekrar oranları ---\n",
    "agg_features_test[\"product_repeat_rate\"] = agg_features_test[\"n_events\"] / (agg_features_test[\"n_products\"] + 1)\n",
    "agg_features_test[\"category_repeat_rate\"] = agg_features_test[\"n_events\"] / (agg_features_test[\"n_categories\"] + 1)\n",
    "\n",
    "# --- 1.3) Event frekansları ---\n",
    "event_counts_test = test_df.pivot_table(\n",
    "    index=\"user_session\",\n",
    "    columns=\"event_type\",\n",
    "    values=\"event_time\",\n",
    "    aggfunc=\"count\",\n",
    "    fill_value=0\n",
    ").reset_index()\n",
    "\n",
    "agg_features_test = agg_features_test.merge(event_counts_test, on=\"user_session\", how=\"left\")\n",
    "\n",
    "# --- 1.4) Event oranları ---\n",
    "agg_features_test[\"conversion_rate\"] = agg_features_test[\"BUY\"] / (agg_features_test[\"n_events\"] + 1)\n",
    "agg_features_test[\"add_cart_ratio\"] = agg_features_test[\"ADD_CART\"] / (agg_features_test[\"n_events\"] + 1)\n",
    "agg_features_test[\"remove_vs_add\"] = agg_features_test[\"REMOVE_CART\"] / (agg_features_test[\"ADD_CART\"] + 1)\n",
    "agg_features_test[\"view_to_buy_ratio\"] = agg_features_test[\"BUY\"] / (agg_features_test[\"VIEW\"] + 1)\n",
    "agg_features_test[\"buy_ratio\"] = agg_features_test[\"BUY\"] / (agg_features_test[\"VIEW\"] + 1)\n",
    "\n",
    "# --- 1.5) BUY pozisyonu () ---\n",
    "\n",
    "# 1.5.1) Event sırası hesapla\n",
    "test_df[\"event_index\"] = test_df.groupby(\"user_session\").cumcount() + 1  # her session’da event sırası\n",
    "\n",
    "# 1.5.2) Session bazında ilk BUY pozisyonunu bul\n",
    "buy_pos = test_df[test_df[\"event_type\"] == \"BUY\"].groupby(\"user_session\").agg(\n",
    "    buy_position=(\"event_index\", \"min\")\n",
    ").reset_index()\n",
    "\n",
    "# 1.5.3) Test setine merge et\n",
    "agg_features_test = agg_features_test.merge(buy_pos, on=\"user_session\", how=\"left\")\n",
    "\n",
    "# 1.5.4) Normalleştirilmiş pozisyon\n",
    "# NaN olanlar = BUY yok, 1.0 ile dolduruyoruz (en sona kadar hiç buy gelmedi)\n",
    "agg_features_test[\"buy_position_norm\"] = agg_features_test[\"buy_position\"] / (agg_features_test[\"n_events\"] + 1)\n",
    "agg_features_test[\"buy_position_norm\"] = agg_features_test[\"buy_position_norm\"].fillna(1.0)\n",
    "\n",
    "# 1.5.5) Binary flag ekle (BUY var mı yok mu)\n",
    "agg_features_test[\"has_buy\"] = agg_features_test[\"buy_position\"].notna().astype(int)"
   ]
  },
  {
   "cell_type": "code",
   "execution_count": 7,
   "id": "870b2cec",
   "metadata": {},
   "outputs": [],
   "source": [
    "# --- 2) event_type frekansları  ---\n",
    "\n",
    "agg_features_test = agg_features_test.merge(event_counts_test, on=\"user_session\", how=\"left\")\n",
    "\n",
    "drop_cols = [c for c in agg_features_test.columns if '_x' in c or '_y' in c]\n",
    "agg_features_test = agg_features_test.drop(columns=drop_cols)"
   ]
  },
  {
   "cell_type": "code",
   "execution_count": 8,
   "id": "febf2644",
   "metadata": {},
   "outputs": [],
   "source": [
    "# --- 3) Birleştirme ---\n",
    "\n",
    "test_session = agg_features_test.merge(event_counts_test, on=\"user_session\", how=\"left\", sort=False)"
   ]
  },
  {
   "cell_type": "code",
   "execution_count": 9,
   "id": "de24607c",
   "metadata": {},
   "outputs": [],
   "source": [
    "# --- 4) event_time sütununu datetime'a çevir ---\n",
    "\n",
    "test_session[\"hour\"] = test_df[\"event_time\"].dt.hour\n",
    "test_session[\"day\"] = test_df[\"event_time\"].dt.day\n",
    "test_session[\"weekday\"] = test_df[\"event_time\"].dt.weekday  # 0 = Pazartesi, 6 = Pazar\n",
    "test_session[\"is_weekend\"] = (test_df[\"event_time\"].dt.weekday >= 5).astype(int) # Hafta sonu kontrolü"
   ]
  },
  {
   "cell_type": "code",
   "execution_count": 10,
   "id": "ff2f8edb",
   "metadata": {},
   "outputs": [
    {
     "data": {
      "text/html": [
       "<div>\n",
       "<style scoped>\n",
       "    .dataframe tbody tr th:only-of-type {\n",
       "        vertical-align: middle;\n",
       "    }\n",
       "\n",
       "    .dataframe tbody tr th {\n",
       "        vertical-align: top;\n",
       "    }\n",
       "\n",
       "    .dataframe thead th {\n",
       "        text-align: right;\n",
       "    }\n",
       "</style>\n",
       "<table border=\"1\" class=\"dataframe\">\n",
       "  <thead>\n",
       "    <tr style=\"text-align: right;\">\n",
       "      <th></th>\n",
       "      <th>user_session</th>\n",
       "      <th>user_id</th>\n",
       "      <th>n_events</th>\n",
       "      <th>n_products</th>\n",
       "      <th>n_categories</th>\n",
       "      <th>avg_hour</th>\n",
       "      <th>is_weekend</th>\n",
       "      <th>product_repeat_rate</th>\n",
       "      <th>category_repeat_rate</th>\n",
       "      <th>conversion_rate</th>\n",
       "      <th>...</th>\n",
       "      <th>buy_position</th>\n",
       "      <th>buy_position_norm</th>\n",
       "      <th>has_buy</th>\n",
       "      <th>ADD_CART</th>\n",
       "      <th>BUY</th>\n",
       "      <th>REMOVE_CART</th>\n",
       "      <th>VIEW</th>\n",
       "      <th>hour</th>\n",
       "      <th>day</th>\n",
       "      <th>weekday</th>\n",
       "    </tr>\n",
       "  </thead>\n",
       "  <tbody>\n",
       "    <tr>\n",
       "      <th>0</th>\n",
       "      <td>SESSION_000000</td>\n",
       "      <td>USER_027389</td>\n",
       "      <td>28</td>\n",
       "      <td>27</td>\n",
       "      <td>19</td>\n",
       "      <td>12.035714</td>\n",
       "      <td>1</td>\n",
       "      <td>1.000000</td>\n",
       "      <td>1.400000</td>\n",
       "      <td>0.0</td>\n",
       "      <td>...</td>\n",
       "      <td>NaN</td>\n",
       "      <td>1.0</td>\n",
       "      <td>0</td>\n",
       "      <td>23</td>\n",
       "      <td>0</td>\n",
       "      <td>5</td>\n",
       "      <td>0</td>\n",
       "      <td>10</td>\n",
       "      <td>28</td>\n",
       "      <td>5</td>\n",
       "    </tr>\n",
       "    <tr>\n",
       "      <th>1</th>\n",
       "      <td>SESSION_000013</td>\n",
       "      <td>USER_096685</td>\n",
       "      <td>2</td>\n",
       "      <td>2</td>\n",
       "      <td>2</td>\n",
       "      <td>19.000000</td>\n",
       "      <td>0</td>\n",
       "      <td>0.666667</td>\n",
       "      <td>0.666667</td>\n",
       "      <td>0.0</td>\n",
       "      <td>...</td>\n",
       "      <td>NaN</td>\n",
       "      <td>1.0</td>\n",
       "      <td>0</td>\n",
       "      <td>0</td>\n",
       "      <td>0</td>\n",
       "      <td>0</td>\n",
       "      <td>2</td>\n",
       "      <td>11</td>\n",
       "      <td>25</td>\n",
       "      <td>2</td>\n",
       "    </tr>\n",
       "    <tr>\n",
       "      <th>2</th>\n",
       "      <td>SESSION_000022</td>\n",
       "      <td>USER_004363</td>\n",
       "      <td>1</td>\n",
       "      <td>1</td>\n",
       "      <td>1</td>\n",
       "      <td>15.000000</td>\n",
       "      <td>0</td>\n",
       "      <td>0.500000</td>\n",
       "      <td>0.500000</td>\n",
       "      <td>0.0</td>\n",
       "      <td>...</td>\n",
       "      <td>NaN</td>\n",
       "      <td>1.0</td>\n",
       "      <td>0</td>\n",
       "      <td>1</td>\n",
       "      <td>0</td>\n",
       "      <td>0</td>\n",
       "      <td>0</td>\n",
       "      <td>14</td>\n",
       "      <td>30</td>\n",
       "      <td>0</td>\n",
       "    </tr>\n",
       "    <tr>\n",
       "      <th>3</th>\n",
       "      <td>SESSION_000024</td>\n",
       "      <td>USER_041338</td>\n",
       "      <td>1</td>\n",
       "      <td>1</td>\n",
       "      <td>1</td>\n",
       "      <td>15.000000</td>\n",
       "      <td>0</td>\n",
       "      <td>0.500000</td>\n",
       "      <td>0.500000</td>\n",
       "      <td>0.0</td>\n",
       "      <td>...</td>\n",
       "      <td>NaN</td>\n",
       "      <td>1.0</td>\n",
       "      <td>0</td>\n",
       "      <td>0</td>\n",
       "      <td>0</td>\n",
       "      <td>0</td>\n",
       "      <td>1</td>\n",
       "      <td>22</td>\n",
       "      <td>30</td>\n",
       "      <td>0</td>\n",
       "    </tr>\n",
       "    <tr>\n",
       "      <th>4</th>\n",
       "      <td>SESSION_000025</td>\n",
       "      <td>USER_052581</td>\n",
       "      <td>3</td>\n",
       "      <td>3</td>\n",
       "      <td>2</td>\n",
       "      <td>12.333333</td>\n",
       "      <td>0</td>\n",
       "      <td>0.750000</td>\n",
       "      <td>1.000000</td>\n",
       "      <td>0.0</td>\n",
       "      <td>...</td>\n",
       "      <td>NaN</td>\n",
       "      <td>1.0</td>\n",
       "      <td>0</td>\n",
       "      <td>1</td>\n",
       "      <td>0</td>\n",
       "      <td>2</td>\n",
       "      <td>0</td>\n",
       "      <td>16</td>\n",
       "      <td>26</td>\n",
       "      <td>3</td>\n",
       "    </tr>\n",
       "  </tbody>\n",
       "</table>\n",
       "<p>5 rows × 24 columns</p>\n",
       "</div>"
      ],
      "text/plain": [
       "     user_session      user_id  n_events  n_products  n_categories   avg_hour  \\\n",
       "0  SESSION_000000  USER_027389        28          27            19  12.035714   \n",
       "1  SESSION_000013  USER_096685         2           2             2  19.000000   \n",
       "2  SESSION_000022  USER_004363         1           1             1  15.000000   \n",
       "3  SESSION_000024  USER_041338         1           1             1  15.000000   \n",
       "4  SESSION_000025  USER_052581         3           3             2  12.333333   \n",
       "\n",
       "   is_weekend  product_repeat_rate  category_repeat_rate  conversion_rate  \\\n",
       "0           1             1.000000              1.400000              0.0   \n",
       "1           0             0.666667              0.666667              0.0   \n",
       "2           0             0.500000              0.500000              0.0   \n",
       "3           0             0.500000              0.500000              0.0   \n",
       "4           0             0.750000              1.000000              0.0   \n",
       "\n",
       "   ...  buy_position  buy_position_norm  has_buy  ADD_CART  BUY  REMOVE_CART  \\\n",
       "0  ...           NaN                1.0        0        23    0            5   \n",
       "1  ...           NaN                1.0        0         0    0            0   \n",
       "2  ...           NaN                1.0        0         1    0            0   \n",
       "3  ...           NaN                1.0        0         0    0            0   \n",
       "4  ...           NaN                1.0        0         1    0            2   \n",
       "\n",
       "   VIEW  hour  day  weekday  \n",
       "0     0    10   28        5  \n",
       "1     2    11   25        2  \n",
       "2     0    14   30        0  \n",
       "3     1    22   30        0  \n",
       "4     0    16   26        3  \n",
       "\n",
       "[5 rows x 24 columns]"
      ]
     },
     "execution_count": 10,
     "metadata": {},
     "output_type": "execute_result"
    }
   ],
   "source": [
    "test_session.head()"
   ]
  },
  {
   "cell_type": "code",
   "execution_count": 11,
   "id": "5be37409",
   "metadata": {},
   "outputs": [
    {
     "data": {
      "text/plain": [
       "(30789, 24)"
      ]
     },
     "execution_count": 11,
     "metadata": {},
     "output_type": "execute_result"
    }
   ],
   "source": [
    "test_session.shape"
   ]
  },
  {
   "cell_type": "code",
   "execution_count": 14,
   "id": "3987d696",
   "metadata": {},
   "outputs": [],
   "source": [
    "test_session = test_session.drop(columns=['buy_position'])"
   ]
  },
  {
   "cell_type": "code",
   "execution_count": 15,
   "id": "51789624",
   "metadata": {},
   "outputs": [
    {
     "data": {
      "text/plain": [
       "['n_events',\n",
       " 'n_products',\n",
       " 'n_categories',\n",
       " 'avg_hour',\n",
       " 'is_weekend',\n",
       " 'product_repeat_rate',\n",
       " 'category_repeat_rate',\n",
       " 'conversion_rate',\n",
       " 'add_cart_ratio',\n",
       " 'remove_vs_add',\n",
       " 'view_to_buy_ratio',\n",
       " 'buy_ratio',\n",
       " 'buy_position_norm',\n",
       " 'has_buy',\n",
       " 'ADD_CART',\n",
       " 'BUY',\n",
       " 'REMOVE_CART',\n",
       " 'VIEW',\n",
       " 'hour',\n",
       " 'day',\n",
       " 'weekday']"
      ]
     },
     "execution_count": 15,
     "metadata": {},
     "output_type": "execute_result"
    }
   ],
   "source": [
    "# Özellikler (hedefi ve kimlik kolonlarını çıkartıyoruz)\n",
    "# Tüm sayısal kolonları seç\n",
    "feature_cols = test_session.select_dtypes(include=['int64', 'float64', 'int32', 'float32']).columns.tolist()\n",
    "\n",
    "# Hedef ve ID kolonlarını çıkar\n",
    "feature_cols = [c for c in feature_cols if c not in ['session_value', 'user_id']]\n",
    "feature_cols"
   ]
  },
  {
   "cell_type": "code",
   "execution_count": 16,
   "id": "0d15de6f",
   "metadata": {},
   "outputs": [],
   "source": [
    "X_test = test_session[feature_cols].values\n",
    "\n",
    "scaler = joblib.load(\"scaler.save\")\n",
    "X_test_scaled = scaler.transform(X_test)"
   ]
  },
  {
   "cell_type": "code",
   "execution_count": 17,
   "id": "93429ca1",
   "metadata": {},
   "outputs": [],
   "source": [
    "model_ann = load_model(\"final_model.h5\")"
   ]
  },
  {
   "cell_type": "code",
   "execution_count": 19,
   "id": "86ab9207",
   "metadata": {},
   "outputs": [
    {
     "name": "stdout",
     "output_type": "stream",
     "text": [
      "963/963 [==============================] - 2s 2ms/step\n"
     ]
    }
   ],
   "source": [
    "test_pred_ann = model_ann.predict(X_test_scaled)\n",
    "\n",
    "submission_df = pd.DataFrame({\n",
    "    'user_session': agg_features_test['user_session'],\n",
    "    'session_value': test_pred_ann.flatten()\n",
    "})"
   ]
  },
  {
   "cell_type": "code",
   "execution_count": null,
   "id": "0e9c3093",
   "metadata": {},
   "outputs": [
    {
     "name": "stdout",
     "output_type": "stream",
     "text": [
      "sample_submission_1.csv dosyası kaydedildi ✅\n"
     ]
    }
   ],
   "source": [
    "original_order = test_df[[\"user_session\"]].drop_duplicates()\n",
    "submission_df = original_order.merge(submission_df, on=\"user_session\", how=\"left\")\n",
    "\n",
    "submission_df.to_csv(\"sample_submission.csv\", index=False)\n",
    "print(\"sample_submission.csv dosyası kaydedildi ✅\")"
   ]
  }
 ],
 "metadata": {
  "kernelspec": {
   "display_name": "Python 3",
   "language": "python",
   "name": "python3"
  },
  "language_info": {
   "codemirror_mode": {
    "name": "ipython",
    "version": 3
   },
   "file_extension": ".py",
   "mimetype": "text/x-python",
   "name": "python",
   "nbconvert_exporter": "python",
   "pygments_lexer": "ipython3",
   "version": "3.10.0"
  }
 },
 "nbformat": 4,
 "nbformat_minor": 5
}
